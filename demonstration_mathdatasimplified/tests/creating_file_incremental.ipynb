{
 "cells": [
  {
   "cell_type": "code",
   "execution_count": 15,
   "metadata": {},
   "outputs": [
    {
     "name": "stdout",
     "output_type": "stream",
     "text": [
      "   BOOKING_ID  LOCATION_ID CREATED_AT REVENUE\n",
      "0           1            1 1970-01-01      79\n",
      "1           2            2 1970-01-02      99\n",
      "2           3            3 1970-01-19      50\n"
     ]
    }
   ],
   "source": [
    "import pandas as pd\n",
    "\n",
    "# Create a DataFrame from a dictionary\n",
    "data = {'BOOKING_ID': [1, 2, 3],\n",
    "        'LOCATION_ID': [1, 2, 3],\n",
    "        'CREATED_AT': ['01/01/1970', '02/01/1970', '19/01/1970'],\n",
    "        'REVENUE': ['79', '99', '50']}\n",
    "\n",
    "df = pd.DataFrame(data)\n",
    "\n",
    "# Convert the 'CREATED_AT' column to datetime\n",
    "df['CREATED_AT'] = pd.to_datetime(df['CREATED_AT'], format='%d/%m/%Y')\n",
    "df.to_csv('df_0.csv', index=False)\n",
    "\n",
    "# Display the DataFrame\n",
    "print(df)"
   ]
  },
  {
   "cell_type": "code",
   "execution_count": 16,
   "metadata": {},
   "outputs": [
    {
     "name": "stdout",
     "output_type": "stream",
     "text": [
      "   BOOKING_ID  LOCATION_ID CREATED_AT REVENUE\n",
      "0           1            1 1970-01-01      79\n",
      "1           2            2 1970-01-02      99\n",
      "2           3            3 1970-01-19      50\n",
      "3           4            4 1990-01-10     100\n",
      "4           5            5 1990-01-11     200\n"
     ]
    }
   ],
   "source": [
    "import pandas as pd\n",
    "\n",
    "# Create a DataFrame from a dictionary\n",
    "data = {'BOOKING_ID': [1, 2, 3, 4, 5],\n",
    "        'LOCATION_ID': [1, 2, 3, 4, 5],\n",
    "        'CREATED_AT': ['01/01/1970', '02/01/1970', '19/01/1970', '10/01/1990', '11/01/1990'],\n",
    "        'REVENUE': ['79', '99', '50', '100', '200']}\n",
    "\n",
    "df = pd.DataFrame(data)\n",
    "\n",
    "# Convert the 'CREATED_AT' column to datetime\n",
    "df['CREATED_AT'] = pd.to_datetime(df['CREATED_AT'], format='%d/%m/%Y')\n",
    "df.to_csv('df_1.csv', index=False)\n",
    "# Display the DataFrame\n",
    "print(df)"
   ]
  },
  {
   "cell_type": "code",
   "execution_count": 5,
   "metadata": {},
   "outputs": [
    {
     "data": {
      "text/html": [
       "<div>\n",
       "<style scoped>\n",
       "    .dataframe tbody tr th:only-of-type {\n",
       "        vertical-align: middle;\n",
       "    }\n",
       "\n",
       "    .dataframe tbody tr th {\n",
       "        vertical-align: top;\n",
       "    }\n",
       "\n",
       "    .dataframe thead th {\n",
       "        text-align: right;\n",
       "    }\n",
       "</style>\n",
       "<table border=\"1\" class=\"dataframe\">\n",
       "  <thead>\n",
       "    <tr style=\"text-align: right;\">\n",
       "      <th></th>\n",
       "      <th>date</th>\n",
       "      <th>name</th>\n",
       "      <th>sales</th>\n",
       "      <th>status</th>\n",
       "    </tr>\n",
       "  </thead>\n",
       "  <tbody>\n",
       "    <tr>\n",
       "      <th>0</th>\n",
       "      <td>2023-01-01</td>\n",
       "      <td>Peppa</td>\n",
       "      <td>4</td>\n",
       "      <td>actual</td>\n",
       "    </tr>\n",
       "    <tr>\n",
       "      <th>1</th>\n",
       "      <td>2023-01-01</td>\n",
       "      <td>George</td>\n",
       "      <td>4</td>\n",
       "      <td>actual</td>\n",
       "    </tr>\n",
       "    <tr>\n",
       "      <th>2</th>\n",
       "      <td>2023-02-01</td>\n",
       "      <td>Peppa</td>\n",
       "      <td>8</td>\n",
       "      <td>actual</td>\n",
       "    </tr>\n",
       "    <tr>\n",
       "      <th>3</th>\n",
       "      <td>2023-02-01</td>\n",
       "      <td>George</td>\n",
       "      <td>2</td>\n",
       "      <td>actual</td>\n",
       "    </tr>\n",
       "    <tr>\n",
       "      <th>4</th>\n",
       "      <td>2023-03-01</td>\n",
       "      <td>Peppa</td>\n",
       "      <td>6</td>\n",
       "      <td>estimate</td>\n",
       "    </tr>\n",
       "    <tr>\n",
       "      <th>5</th>\n",
       "      <td>2023-03-01</td>\n",
       "      <td>George</td>\n",
       "      <td>3</td>\n",
       "      <td>estimate</td>\n",
       "    </tr>\n",
       "  </tbody>\n",
       "</table>\n",
       "</div>"
      ],
      "text/plain": [
       "        date    name sales    status\n",
       "0 2023-01-01   Peppa     4    actual\n",
       "1 2023-01-01  George     4    actual\n",
       "2 2023-02-01   Peppa     8    actual\n",
       "3 2023-02-01  George     2    actual\n",
       "4 2023-03-01   Peppa     6  estimate\n",
       "5 2023-03-01  George     3  estimate"
      ]
     },
     "execution_count": 5,
     "metadata": {},
     "output_type": "execute_result"
    }
   ],
   "source": [
    "import pandas as pd\n",
    "\n",
    "# Create a DataFrame from a dictionary\n",
    "data = {'date': ['Jan. 2023', 'Jan. 2023', 'Feb. 2023', 'Feb. 2023', 'Mar. 2023', 'Mar. 2023'],\n",
    "        'name': ['Peppa', 'George', 'Peppa', 'George', 'Peppa', 'George'],\n",
    "        'sales': ['4', '4', '8', '2','6','3'],\n",
    "        'status': ['actual', 'actual', 'actual', 'actual', 'estimate', 'estimate']}\n",
    "\n",
    "df = pd.DataFrame(data)\n",
    "df['date'] = pd.to_datetime(df['date'], format='%b. %Y')\n",
    "\n",
    "df"
   ]
  },
  {
   "cell_type": "code",
   "execution_count": 14,
   "metadata": {},
   "outputs": [
    {
     "data": {
      "text/plain": [
       "0   1970-01-01\n",
       "1   1970-01-02\n",
       "2   1970-01-19\n",
       "3   1990-01-10\n",
       "4   1990-01-11\n",
       "Name: CREATED_AT, dtype: datetime64[ns]"
      ]
     },
     "execution_count": 14,
     "metadata": {},
     "output_type": "execute_result"
    }
   ],
   "source": [
    "import pandas as pd\n",
    "\n",
    "# Create a DataFrame from a dictionary\n",
    "data = {'date': ['Jan. 2023', 'Jan. 2023', 'Feb. 2023', 'Feb. 2023', 'Marc. 2023', 'Marc. 2023'],\n",
    "        'name': ['Peppa', 'George', 'Peppa', 'George', 'Peppa', 'George'],\n",
    "        'sales': ['4', '4', '8', '2','6','3'],\n",
    "        'status': ['actual', 'actual', 'actual', 'actual', 'estimate', 'estimate']}\n",
    "\n",
    "df = pd.DataFrame(data)\n",
    "\n",
    "# Convert the 'CREATED_AT' column to datetime\n",
    "df['date'] = pd.to_datetime(df['date'], format='%d/%m/%Y')\n",
    "df.to_csv('df_1.csv', index=False)\n",
    "# Display the DataFrame\n",
    "print(df)"
   ]
  },
  {
   "cell_type": "code",
   "execution_count": 7,
   "metadata": {},
   "outputs": [
    {
     "name": "stdout",
     "output_type": "stream",
     "text": [
      "        date    name sales    status\n",
      "0  Jan. 2023   Peppa     4    actual\n",
      "1  Jan. 2023  George     4    actual\n",
      "2  Feb. 2023   Peppa     8    actual\n",
      "3  Feb. 2023  George     2    actual\n",
      "4  Mar. 2023   Peppa     6  estimate\n",
      "5  Mar. 2023  George     3  estimate\n"
     ]
    }
   ],
   "source": [
    "import pandas as pd\n",
    "\n",
    "# Create a DataFrame from a dictionary\n",
    "data = {'date': ['Jan. 2023', 'Jan. 2023', 'Feb. 2023', 'Feb. 2023', 'Mar. 2023', 'Mar. 2023'],\n",
    "        'name': ['Peppa', 'George', 'Peppa', 'George', 'Peppa', 'George'],\n",
    "        'sales': ['4', '4', '8', '2', '6', '3'],\n",
    "        'status': ['actual', 'actual', 'actual', 'actual', 'estimate', 'estimate']}\n",
    "\n",
    "df = pd.DataFrame(data)\n",
    "\n",
    "# Convert the 'date' column to datetime with a fixed day (1st of each month)\n",
    "df['date'] = pd.to_datetime(df['date'] + ' 1', format='%b. %Y %d')\n",
    "\n",
    "# Format the 'date' column as 'Mar. 2023'\n",
    "df['date'] = df['date'].dt.strftime('%b. %Y')\n",
    "\n",
    "# Display the updated DataFrame\n",
    "print(df)\n",
    "\n",
    "\n",
    "df.to_csv('Peppa_and_George.csv', index=False)"
   ]
  },
  {
   "cell_type": "code",
   "execution_count": null,
   "metadata": {},
   "outputs": [],
   "source": []
  }
 ],
 "metadata": {
  "kernelspec": {
   "display_name": "great_expectations",
   "language": "python",
   "name": "python3"
  },
  "language_info": {
   "codemirror_mode": {
    "name": "ipython",
    "version": 3
   },
   "file_extension": ".py",
   "mimetype": "text/x-python",
   "name": "python",
   "nbconvert_exporter": "python",
   "pygments_lexer": "ipython3",
   "version": "3.8.18"
  }
 },
 "nbformat": 4,
 "nbformat_minor": 2
}
